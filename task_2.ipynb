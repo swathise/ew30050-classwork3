{
  "nbformat": 4,
  "nbformat_minor": 0,
  "metadata": {
    "colab": {
      "provenance": [],
      "authorship_tag": "ABX9TyPthG8+BN1PgqSIXyoQWHhh",
      "include_colab_link": true
    },
    "kernelspec": {
      "name": "python3",
      "display_name": "Python 3"
    },
    "language_info": {
      "name": "python"
    }
  },
  "cells": [
    {
      "cell_type": "markdown",
      "metadata": {
        "id": "view-in-github",
        "colab_type": "text"
      },
      "source": [
        "<a href=\"https://colab.research.google.com/github/swathise/ew30050-classwork3/blob/main/task_2.ipynb\" target=\"_parent\"><img src=\"https://colab.research.google.com/assets/colab-badge.svg\" alt=\"Open In Colab\"/></a>"
      ]
    },
    {
      "cell_type": "code",
      "execution_count": 1,
      "metadata": {
        "colab": {
          "base_uri": "https://localhost:8080/"
        },
        "id": "e0zY3scc7hSj",
        "outputId": "6c8196c5-b7a0-47b1-dc77-e5004d3e841e"
      },
      "outputs": [
        {
          "output_type": "stream",
          "name": "stdout",
          "text": [
            "Linear SVM Accuracy: 0.85\n",
            "Classification Report for Linear SVM:\n",
            "               precision    recall  f1-score   support\n",
            "\n",
            "           0       0.71      0.83      0.77         6\n",
            "           1       0.92      0.86      0.89        14\n",
            "\n",
            "    accuracy                           0.85        20\n",
            "   macro avg       0.82      0.85      0.83        20\n",
            "weighted avg       0.86      0.85      0.85        20\n",
            "\n",
            "Best gamma for RBF Kernel: 1\n",
            "RBF SVM Accuracy: 0.85\n",
            "Classification Report for RBF SVM:\n",
            "               precision    recall  f1-score   support\n",
            "\n",
            "           0       0.71      0.83      0.77         6\n",
            "           1       0.92      0.86      0.89        14\n",
            "\n",
            "    accuracy                           0.85        20\n",
            "   macro avg       0.82      0.85      0.83        20\n",
            "weighted avg       0.86      0.85      0.85        20\n",
            "\n"
          ]
        }
      ],
      "source": [
        "import pandas as pd\n",
        "import numpy as np\n",
        "import matplotlib.pyplot as plt\n",
        "import seaborn as sns\n",
        "from sklearn.svm import SVC\n",
        "from sklearn.model_selection import GridSearchCV, train_test_split\n",
        "from sklearn.metrics import accuracy_score, classification_report\n",
        "\n",
        "# Load dataset\n",
        "file_path = \"/content/student_data.csv\"\n",
        "df = pd.read_csv(file_path)\n",
        "\n",
        "# Separate features and target\n",
        "X = df.drop(columns=['Results'])\n",
        "y = df['Results']\n",
        "\n",
        "# Split data into training and testing sets\n",
        "X_train, X_test, y_train, y_test = train_test_split(X, y, test_size=0.2, random_state=42)\n",
        "\n",
        "# Train SVM with linear kernel\n",
        "svm_linear = SVC(kernel='linear')\n",
        "svm_linear.fit(X_train, y_train)\n",
        "y_pred_linear = svm_linear.predict(X_test)\n",
        "\n",
        "# Evaluate Linear SVM\n",
        "print(\"Linear SVM Accuracy:\", accuracy_score(y_test, y_pred_linear))\n",
        "print(\"Classification Report for Linear SVM:\\n\", classification_report(y_test, y_pred_linear))\n",
        "\n",
        "# Train SVM with RBF kernel and perform Grid Search for best gamma\n",
        "param_grid = {'gamma': [0.001, 0.01, 0.1, 1, 10]}\n",
        "svm_rbf = GridSearchCV(SVC(kernel='rbf'), param_grid, cv=5)\n",
        "svm_rbf.fit(X_train, y_train)\n",
        "\n",
        "# Best gamma value\n",
        "best_gamma = svm_rbf.best_params_['gamma']\n",
        "print(\"Best gamma for RBF Kernel:\", best_gamma)\n",
        "\n",
        "# Train SVM with best gamma\n",
        "svm_best_rbf = SVC(kernel='rbf', gamma=best_gamma)\n",
        "svm_best_rbf.fit(X_train, y_train)\n",
        "y_pred_rbf = svm_best_rbf.predict(X_test)\n",
        "\n",
        "# Evaluate RBF SVM\n",
        "print(\"RBF SVM Accuracy:\", accuracy_score(y_test, y_pred_rbf))\n",
        "print(\"Classification Report for RBF SVM:\\n\", classification_report(y_test, y_pred_rbf))\n"
      ]
    }
  ]
}